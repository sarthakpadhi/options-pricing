{
 "cells": [
  {
   "cell_type": "code",
   "execution_count": 1,
   "id": "038835f1",
   "metadata": {},
   "outputs": [],
   "source": [
    "# !pip install -r requirements.txt"
   ]
  },
  {
   "cell_type": "code",
   "execution_count": 2,
   "id": "4e5b0525",
   "metadata": {},
   "outputs": [
    {
     "name": "stderr",
     "output_type": "stream",
     "text": [
      "/Users/admin/Code/Personal/Quant/options-pricing/.venv/lib/python3.13/site-packages/investpy/bonds.py:10: UserWarning: pkg_resources is deprecated as an API. See https://setuptools.pypa.io/en/latest/pkg_resources.html. The pkg_resources package is slated for removal as early as 2025-11-30. Refrain from using this package or pin to Setuptools<81.\n",
      "  import pkg_resources\n"
     ]
    }
   ],
   "source": [
    "from utils.black_scholes_model import EuropeanOptionPricing"
   ]
  },
  {
   "cell_type": "code",
   "execution_count": 4,
   "id": "b1dfd274",
   "metadata": {},
   "outputs": [],
   "source": [
    "pricing_handler = EuropeanOptionPricing(\n",
    "    stock_price=8400,\n",
    "    strike_price=8600,\n",
    "    time_to_expiration=1,\n",
    "    volatility=0.18,\n",
    "    # risk_free_rate=0.07,\n",
    ")"
   ]
  },
  {
   "cell_type": "code",
   "execution_count": 5,
   "id": "71b3667d",
   "metadata": {},
   "outputs": [
    {
     "data": {
      "text/plain": [
       "np.float64(0.06294)"
      ]
     },
     "execution_count": 5,
     "metadata": {},
     "output_type": "execute_result"
    }
   ],
   "source": [
    "pricing_handler.risk_free_rate"
   ]
  },
  {
   "cell_type": "code",
   "execution_count": 6,
   "id": "64933f8a",
   "metadata": {},
   "outputs": [
    {
     "data": {
      "text/plain": [
       "np.float64(442.50984153504396)"
      ]
     },
     "execution_count": 6,
     "metadata": {},
     "output_type": "execute_result"
    }
   ],
   "source": [
    "pricing_handler.calculate_put_option_price()"
   ]
  },
  {
   "cell_type": "code",
   "execution_count": null,
   "id": "4f9dad06",
   "metadata": {},
   "outputs": [],
   "source": []
  }
 ],
 "metadata": {
  "kernelspec": {
   "display_name": ".venv",
   "language": "python",
   "name": "python3"
  },
  "language_info": {
   "codemirror_mode": {
    "name": "ipython",
    "version": 3
   },
   "file_extension": ".py",
   "mimetype": "text/x-python",
   "name": "python",
   "nbconvert_exporter": "python",
   "pygments_lexer": "ipython3",
   "version": "3.13.5"
  }
 },
 "nbformat": 4,
 "nbformat_minor": 5
}

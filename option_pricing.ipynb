{
 "cells": [
  {
   "cell_type": "code",
   "execution_count": 1,
   "id": "038835f1",
   "metadata": {},
   "outputs": [],
   "source": [
    "# !pip install -r requirements.txt"
   ]
  },
  {
   "cell_type": "code",
   "execution_count": 2,
   "id": "40fb9dae",
   "metadata": {},
   "outputs": [
    {
     "name": "stderr",
     "output_type": "stream",
     "text": [
      "/Users/admin/Code/Personal/Quant/options-pricing/.venv/lib/python3.13/site-packages/investpy/bonds.py:10: UserWarning: pkg_resources is deprecated as an API. See https://setuptools.pypa.io/en/latest/pkg_resources.html. The pkg_resources package is slated for removal as early as 2025-11-30. Refrain from using this package or pin to Setuptools<81.\n",
      "  import pkg_resources\n"
     ]
    }
   ],
   "source": [
    "from utils import BinomialOptionsPricing, BSMOptionPricing, MCSimulation"
   ]
  },
  {
   "cell_type": "code",
   "execution_count": 3,
   "id": "ece5ed40",
   "metadata": {},
   "outputs": [],
   "source": [
    "S0=8400\n",
    "K=8600\n",
    "T=1\n",
    "vol=0.18\n",
    "r=0.07"
   ]
  },
  {
   "cell_type": "code",
   "execution_count": 4,
   "id": "4e5b0525",
   "metadata": {},
   "outputs": [
    {
     "data": {
      "text/plain": [
       "np.float64(417.4578804915536)"
      ]
     },
     "execution_count": 4,
     "metadata": {},
     "output_type": "execute_result"
    }
   ],
   "source": [
    "pricing_handler = BSMOptionPricing(\n",
    "    S0=S0,\n",
    "    # stock_ticker=\"RELI\",\n",
    "    K=K,\n",
    "    T=T,\n",
    "    vol=vol,\n",
    "    r=r,\n",
    ")\n",
    "pricing_handler.calculate_put_option_price()"
   ]
  },
  {
   "cell_type": "code",
   "execution_count": 52,
   "id": "bc92cc82",
   "metadata": {},
   "outputs": [
    {
     "data": {
      "text/plain": [
       "np.float64(417.06708321379756)"
      ]
     },
     "execution_count": 52,
     "metadata": {},
     "output_type": "execute_result"
    }
   ],
   "source": [
    "simulate = MCSimulation(\n",
    "    S0=S0,\n",
    "    K=K,\n",
    "    T=T,\n",
    "    vol=vol,\n",
    "    r=r,\n",
    "    time_steps=1\n",
    ")\n",
    "simulate.calculate_put_option_price(num_sims=1000000)"
   ]
  },
  {
   "cell_type": "code",
   "execution_count": 54,
   "id": "b67467ea",
   "metadata": {},
   "outputs": [
    {
     "name": "stdout",
     "output_type": "stream",
     "text": [
      "417.3597404350885\n"
     ]
    }
   ],
   "source": [
    "from utils.binomial_options_pricing import BinomialOptionsPricing\n",
    "\n",
    "handler = BinomialOptionsPricing(S0=S0, K=K, T=T, vol=vol, r=r, N=1000)\n",
    "print(handler.calculate_put_option_price())"
   ]
  },
  {
   "cell_type": "code",
   "execution_count": null,
   "id": "b1908408",
   "metadata": {},
   "outputs": [],
   "source": []
  },
  {
   "cell_type": "code",
   "execution_count": null,
   "id": "84e0c60e",
   "metadata": {},
   "outputs": [],
   "source": []
  },
  {
   "cell_type": "code",
   "execution_count": null,
   "id": "337ae635",
   "metadata": {},
   "outputs": [],
   "source": []
  }
 ],
 "metadata": {
  "kernelspec": {
   "display_name": ".venv",
   "language": "python",
   "name": "python3"
  },
  "language_info": {
   "codemirror_mode": {
    "name": "ipython",
    "version": 3
   },
   "file_extension": ".py",
   "mimetype": "text/x-python",
   "name": "python",
   "nbconvert_exporter": "python",
   "pygments_lexer": "ipython3",
   "version": "3.13.5"
  }
 },
 "nbformat": 4,
 "nbformat_minor": 5
}

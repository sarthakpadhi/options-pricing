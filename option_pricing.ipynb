{
 "cells": [
  {
   "cell_type": "code",
   "execution_count": 1,
   "id": "038835f1",
   "metadata": {},
   "outputs": [],
   "source": [
    "# !pip install -r requirements.txt"
   ]
  },
  {
   "cell_type": "code",
   "execution_count": 4,
   "id": "4e5b0525",
   "metadata": {},
   "outputs": [],
   "source": [
    "# from utils.black_scholes_model import EuropeanOptionPricing\n",
    "# EuropeanOptionPricing.get_most_recent_stock_price(\"RELIANCE\")\n",
    "# pricing_handler = EuropeanOptionPricing(\n",
    "#     # stock_price=8400,\n",
    "#     stock_ticker=\"RELI\",\n",
    "#     strike_price=1600,\n",
    "#     time_to_expiration=1,\n",
    "#     volatility=0.18,\n",
    "#     # risk_free_rate=0.07,\n",
    "# )\n",
    "# pricing_handler.calculate_put_option_price()"
   ]
  },
  {
   "cell_type": "code",
   "execution_count": 64,
   "id": "b67467ea",
   "metadata": {},
   "outputs": [],
   "source": [
    "import numpy as np\n",
    "from utils.mc_simulations import MCSimulation\n"
   ]
  },
  {
   "cell_type": "code",
   "execution_count": 105,
   "id": "b1dfd274",
   "metadata": {},
   "outputs": [
    {
     "name": "stdout",
     "output_type": "stream",
     "text": [
      "with a SE of 0.11478650238068716\n"
     ]
    },
    {
     "data": {
      "text/plain": [
       "np.float64(3.978561412616306)"
      ]
     },
     "execution_count": 105,
     "metadata": {},
     "output_type": "execute_result"
    }
   ],
   "source": [
    "simulate = MCSimulation(\n",
    "    stock_price=101.15,\n",
    "    strike_price=98.01,\n",
    "    time_to_expiration=0.164,\n",
    "    volatility=0.0991,\n",
    "    risk_free_rate=0.01,\n",
    "    time_steps=1\n",
    ")\n",
    "simulate.calculate_call_option_price(num_sims=1001)"
   ]
  }
 ],
 "metadata": {
  "kernelspec": {
   "display_name": ".venv",
   "language": "python",
   "name": "python3"
  },
  "language_info": {
   "codemirror_mode": {
    "name": "ipython",
    "version": 3
   },
   "file_extension": ".py",
   "mimetype": "text/x-python",
   "name": "python",
   "nbconvert_exporter": "python",
   "pygments_lexer": "ipython3",
   "version": "3.13.5"
  }
 },
 "nbformat": 4,
 "nbformat_minor": 5
}

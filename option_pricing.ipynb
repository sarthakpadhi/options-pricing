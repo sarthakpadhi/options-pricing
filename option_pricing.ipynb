{
 "cells": [
  {
   "cell_type": "code",
   "execution_count": null,
   "id": "038835f1",
   "metadata": {},
   "outputs": [],
   "source": [
    "# !pip install -r requirements.txt"
   ]
  },
  {
   "cell_type": "code",
   "execution_count": 6,
   "id": "4e5b0525",
   "metadata": {},
   "outputs": [
    {
     "name": "stdout",
     "output_type": "stream",
     "text": [
      "Requirement already satisfied: pandas in ./.venv/lib/python3.13/site-packages (from -r requirements.txt (line 1)) (2.3.0)\n",
      "Requirement already satisfied: numpy in ./.venv/lib/python3.13/site-packages (from -r requirements.txt (line 2)) (2.3.1)\n",
      "Collecting scipy (from -r requirements.txt (line 3))\n",
      "  Downloading scipy-1.16.0-cp313-cp313-macosx_14_0_arm64.whl.metadata (61 kB)\n",
      "Requirement already satisfied: python-dateutil>=2.8.2 in ./.venv/lib/python3.13/site-packages (from pandas->-r requirements.txt (line 1)) (2.9.0.post0)\n",
      "Requirement already satisfied: pytz>=2020.1 in ./.venv/lib/python3.13/site-packages (from pandas->-r requirements.txt (line 1)) (2025.2)\n",
      "Requirement already satisfied: tzdata>=2022.7 in ./.venv/lib/python3.13/site-packages (from pandas->-r requirements.txt (line 1)) (2025.2)\n",
      "Requirement already satisfied: six>=1.5 in ./.venv/lib/python3.13/site-packages (from python-dateutil>=2.8.2->pandas->-r requirements.txt (line 1)) (1.17.0)\n",
      "Downloading scipy-1.16.0-cp313-cp313-macosx_14_0_arm64.whl (20.7 MB)\n",
      "\u001b[2K   \u001b[90m━━━━━━━━━━━━━━━━━━━━━━━━━━━━━━━━━━━━━━━━\u001b[0m \u001b[32m20.7/20.7 MB\u001b[0m \u001b[31m15.9 MB/s\u001b[0m eta \u001b[36m0:00:00\u001b[0ma \u001b[36m0:00:01\u001b[0m\n",
      "\u001b[?25hInstalling collected packages: scipy\n",
      "Successfully installed scipy-1.16.0\n"
     ]
    }
   ],
   "source": [
    "\n",
    "import pandas as pd\n",
    "import numpy as np\n",
    "from scipy.stats import norm\n"
   ]
  },
  {
   "cell_type": "code",
   "execution_count": 8,
   "id": "c65d7852",
   "metadata": {},
   "outputs": [],
   "source": [
    "class EuropeanOptionPricing:\n",
    "    def __init__(self, stock_price : float, strike_price : float, time_to_expiration : float, risk_free_rate :  float, volatility : float):\n",
    "        self.stock_price = stock_price\n",
    "        self.strike_price = strike_price\n",
    "        self.time_to_expiration = time_to_expiration\n",
    "        self.risk_free_rate = risk_free_rate\n",
    "        self.volatility = volatility\n",
    "        self.bsm_assets()\n",
    "\n",
    "    def bsm_assets(self):\n",
    "        d1 = (np.log(self.stock_price / self.strike_price) + (self.risk_free_rate + 0.5 * self.volatility ** 2) * self.time_to_expiration)/(self.volatility * np.sqrt(self.time_to_expiration))\n",
    "        d2 = d1 - self.volatility * np.sqrt(self.time_to_expiration)\n",
    "        self.N_d1 = norm.cdf(d1)\n",
    "        self.N_d2 = norm.cdf(d2)\n",
    "\n",
    "    def calculate_call_option_price(self) -> float:\n",
    "        call_option = self.stock_price * self.N_d1 - self.strike_price * np.exp(self.risk_free_rate * self.time_to_expiration) * self.N_d2 \n",
    "        return call_option\n",
    "\n",
    "    def calculate_put_option_price(self) -> float:\n",
    "        \"using put call parity\"\n",
    "        call_price = self.calculate_call_option_price()\n",
    "        return call_price + self.strike_price*np.exp(self.risk_free_rate*self.time_to_expiration) - self.stock_price"
   ]
  },
  {
   "cell_type": "code",
   "execution_count": 10,
   "id": "b1dfd274",
   "metadata": {},
   "outputs": [
    {
     "data": {
      "text/plain": [
       "np.float64(-295.6591639698054)"
      ]
     },
     "execution_count": 10,
     "metadata": {},
     "output_type": "execute_result"
    }
   ],
   "source": [
    "EuropeanOptionPricing(stock_price=8400, strike_price=8600, time_to_expiration=1/232, volatility=0.18, risk_free_rate=7).calculate_call_option_price()"
   ]
  },
  {
   "cell_type": "code",
   "execution_count": null,
   "id": "7e59d853",
   "metadata": {},
   "outputs": [],
   "source": []
  }
 ],
 "metadata": {
  "kernelspec": {
   "display_name": ".venv",
   "language": "python",
   "name": "python3"
  },
  "language_info": {
   "codemirror_mode": {
    "name": "ipython",
    "version": 3
   },
   "file_extension": ".py",
   "mimetype": "text/x-python",
   "name": "python",
   "nbconvert_exporter": "python",
   "pygments_lexer": "ipython3",
   "version": "3.13.5"
  }
 },
 "nbformat": 4,
 "nbformat_minor": 5
}
